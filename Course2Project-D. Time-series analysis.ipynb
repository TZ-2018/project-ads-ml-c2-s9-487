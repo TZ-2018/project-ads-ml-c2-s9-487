{
 "cells": [
  {
   "cell_type": "markdown",
   "metadata": {},
   "source": [
    "D. Time-series analysis\n",
    "\n",
    "You will investigate more closely the created_datetime and last_modified_datetime . First,\n",
    "you will analyze the mean time difference between these two values. And second, you\n",
    "will analyze the mean number of created items per month over the timeline of the data.\n",
    "For the second question, you will also choose an appropriate method to visualize your\n",
    "findings."
   ]
  },
  {
   "cell_type": "code",
   "execution_count": 1,
   "metadata": {},
   "outputs": [
    {
     "data": {
      "text/html": [
       "<div>\n",
       "<style>\n",
       "    .dataframe thead tr:only-child th {\n",
       "        text-align: right;\n",
       "    }\n",
       "\n",
       "    .dataframe thead th {\n",
       "        text-align: left;\n",
       "    }\n",
       "\n",
       "    .dataframe tbody tr th {\n",
       "        vertical-align: top;\n",
       "    }\n",
       "</style>\n",
       "<table border=\"1\" class=\"dataframe\">\n",
       "  <thead>\n",
       "    <tr style=\"text-align: right;\">\n",
       "      <th></th>\n",
       "      <th>created_datetime</th>\n",
       "      <th>last_modified_datetime</th>\n",
       "    </tr>\n",
       "  </thead>\n",
       "  <tbody>\n",
       "    <tr>\n",
       "      <th>0</th>\n",
       "      <td>2016-09-17T09:17:46Z</td>\n",
       "      <td>2016-09-17T09:18:13Z</td>\n",
       "    </tr>\n",
       "    <tr>\n",
       "      <th>1</th>\n",
       "      <td>2017-03-09T14:32:37Z</td>\n",
       "      <td>2017-03-09T14:32:37Z</td>\n",
       "    </tr>\n",
       "    <tr>\n",
       "      <th>2</th>\n",
       "      <td>2017-03-09T14:32:37Z</td>\n",
       "      <td>2017-03-09T14:32:37Z</td>\n",
       "    </tr>\n",
       "    <tr>\n",
       "      <th>3</th>\n",
       "      <td>2017-03-09T10:35:31Z</td>\n",
       "      <td>2017-03-09T10:35:31Z</td>\n",
       "    </tr>\n",
       "    <tr>\n",
       "      <th>4</th>\n",
       "      <td>2017-03-09T10:34:13Z</td>\n",
       "      <td>2017-03-09T10:34:13Z</td>\n",
       "    </tr>\n",
       "  </tbody>\n",
       "</table>\n",
       "</div>"
      ],
      "text/plain": [
       "       created_datetime last_modified_datetime\n",
       "0  2016-09-17T09:17:46Z   2016-09-17T09:18:13Z\n",
       "1  2017-03-09T14:32:37Z   2017-03-09T14:32:37Z\n",
       "2  2017-03-09T14:32:37Z   2017-03-09T14:32:37Z\n",
       "3  2017-03-09T10:35:31Z   2017-03-09T10:35:31Z\n",
       "4  2017-03-09T10:34:13Z   2017-03-09T10:34:13Z"
      ]
     },
     "execution_count": 1,
     "metadata": {},
     "output_type": "execute_result"
    }
   ],
   "source": [
    "#investigate more closely the created_datetime and last_modified_datetime \n",
    "import numpy as np\n",
    "import pandas as pd\n",
    "#from datetime import datetime\n",
    "from matplotlib import pyplot as plt\n",
    "%matplotlib inline\n",
    "#\n",
    "#Importing and cleaning the data\n",
    "#The full dataset has 356027 entries -> use full dataset , because 2 columns are used\n",
    "df = pd.read_csv('en.openfoodfacts.org.products.tsv',usecols=['created_datetime', 'last_modified_datetime'],nrows=356027,low_memory=False,na_filter=False,sep='\\t')\n",
    "df.head(5)"
   ]
  },
  {
   "cell_type": "code",
   "execution_count": 2,
   "metadata": {},
   "outputs": [],
   "source": [
    "# First, you will analyze the mean time difference between these two values\n",
    "# Convert dataframe to datetime64"
   ]
  },
  {
   "cell_type": "code",
   "execution_count": 3,
   "metadata": {
    "scrolled": true
   },
   "outputs": [
    {
     "data": {
      "text/plain": [
       "created_datetime          2017-03-09T14:32:37Z\n",
       "last_modified_datetime    2017-03-09T14:32:37Z\n",
       "Name: 1, dtype: object"
      ]
     },
     "execution_count": 3,
     "metadata": {},
     "output_type": "execute_result"
    }
   ],
   "source": [
    "df.iloc[1]"
   ]
  },
  {
   "cell_type": "code",
   "execution_count": 4,
   "metadata": {},
   "outputs": [
    {
     "data": {
      "text/plain": [
       "Index(['created_datetime', 'last_modified_datetime'], dtype='object')"
      ]
     },
     "execution_count": 4,
     "metadata": {},
     "output_type": "execute_result"
    }
   ],
   "source": [
    "df.columns"
   ]
  },
  {
   "cell_type": "code",
   "execution_count": 5,
   "metadata": {},
   "outputs": [
    {
     "name": "stdout",
     "output_type": "stream",
     "text": [
      "df_Created= datetime64[ns]\n",
      "df_Modified= datetime64[ns]\n"
     ]
    }
   ],
   "source": [
    "# Convert argument to datetime\n",
    "# if errors ‘coerce’ invalid parsing will be set as NaT\n",
    "df_Created=pd.to_datetime(df['created_datetime'], errors='coerce')\n",
    "print('df_Created=',df_Created.dtype)\n",
    "df_Modified=pd.to_datetime(df['last_modified_datetime'], errors='coerce')\n",
    "print('df_Modified=',df_Modified.dtype)"
   ]
  },
  {
   "cell_type": "code",
   "execution_count": 7,
   "metadata": {},
   "outputs": [
    {
     "data": {
      "text/plain": [
       "0   00:00:27\n",
       "1   00:00:00\n",
       "2   00:00:00\n",
       "3   00:00:00\n",
       "4   00:00:00\n",
       "5   00:00:00\n",
       "6   00:00:00\n",
       "7   00:00:01\n",
       "8   00:00:00\n",
       "dtype: timedelta64[ns]"
      ]
     },
     "execution_count": 7,
     "metadata": {},
     "output_type": "execute_result"
    }
   ],
   "source": [
    "# Calculate difference\n",
    "df_Diff=df_Modified-df_Created\n",
    "df_Diff.head(9)"
   ]
  },
  {
   "cell_type": "code",
   "execution_count": 8,
   "metadata": {},
   "outputs": [
    {
     "data": {
      "text/plain": [
       "count                      356000\n",
       "mean     108 days 03:35:07.638426\n",
       "std      283 days 13:39:56.859215\n",
       "min               0 days 00:00:00\n",
       "25%               0 days 00:00:00\n",
       "50%               0 days 00:00:01\n",
       "75%        8 days 18:31:35.250000\n",
       "max            2033 days 13:40:59\n",
       "dtype: object"
      ]
     },
     "execution_count": 8,
     "metadata": {},
     "output_type": "execute_result"
    }
   ],
   "source": [
    "df_Diff.describe()"
   ]
  },
  {
   "cell_type": "code",
   "execution_count": 9,
   "metadata": {},
   "outputs": [
    {
     "name": "stdout",
     "output_type": "stream",
     "text": [
      "Max is high with =  2033 days 13:40:59\n",
      "with many 0 differences\n",
      "Mean is =  108 days 03:35:07.638426\n"
     ]
    }
   ],
   "source": [
    "print('Max is high with = ',df_Diff.max())\n",
    "print('with many 0 differences')\n",
    "print('Mean is = ',df_Diff.mean())"
   ]
  },
  {
   "cell_type": "code",
   "execution_count": 10,
   "metadata": {},
   "outputs": [],
   "source": [
    "# Second analyze the mean number of created items per month over the timeline of the data\n",
    "# Calculate timeline of the data"
   ]
  },
  {
   "cell_type": "code",
   "execution_count": 11,
   "metadata": {},
   "outputs": [
    {
     "data": {
      "text/plain": [
       "count                  356000\n",
       "unique                 224738\n",
       "top       2017-03-09 10:37:09\n",
       "freq                       20\n",
       "first     2012-01-31 14:43:58\n",
       "last      2017-09-18 01:35:39\n",
       "Name: created_datetime, dtype: object"
      ]
     },
     "execution_count": 11,
     "metadata": {},
     "output_type": "execute_result"
    }
   ],
   "source": [
    "df_Created.describe()"
   ]
  },
  {
   "cell_type": "code",
   "execution_count": 12,
   "metadata": {},
   "outputs": [
    {
     "data": {
      "text/plain": [
       "count                  356001\n",
       "unique                 216832\n",
       "top       2015-08-09 17:35:42\n",
       "freq                       30\n",
       "first     2012-03-21 22:15:32\n",
       "last      2017-09-18 01:35:45\n",
       "Name: last_modified_datetime, dtype: object"
      ]
     },
     "execution_count": 12,
     "metadata": {},
     "output_type": "execute_result"
    }
   ],
   "source": [
    "df_Modified.describe()"
   ]
  },
  {
   "cell_type": "code",
   "execution_count": 13,
   "metadata": {},
   "outputs": [
    {
     "name": "stdout",
     "output_type": "stream",
     "text": [
      "Timeline:\n",
      "first datetime =  2012-01-31 14:43:58\n",
      "last datetime =  2017-09-18 01:35:39\n"
     ]
    }
   ],
   "source": [
    "print('Timeline:')\n",
    "print('first datetime = ',df_Created.min())\n",
    "print('last datetime = ',df_Created.max())"
   ]
  },
  {
   "cell_type": "code",
   "execution_count": 14,
   "metadata": {},
   "outputs": [
    {
     "data": {
      "text/plain": [
       "created_datetime\n",
       "2012-01-31      1\n",
       "2012-02-29     13\n",
       "2012-03-31    170\n",
       "2012-04-30    221\n",
       "2012-05-31    458\n",
       "2012-06-30    904\n",
       "2012-07-31    516\n",
       "2012-08-31    164\n",
       "2012-09-30    460\n",
       "dtype: int64"
      ]
     },
     "execution_count": 14,
     "metadata": {},
     "output_type": "execute_result"
    }
   ],
   "source": [
    "# Create datetime Series\n",
    "ts1 = pd.Series(np.arange(len(df)), df_Created)\n",
    "#  number of created items per month over the timeline of the data\n",
    "df_Month = ts1.resample('M').count()\n",
    "df_Month.head(9)"
   ]
  },
  {
   "cell_type": "code",
   "execution_count": 15,
   "metadata": {},
   "outputs": [
    {
     "data": {
      "text/plain": [
       "count        69.000000\n",
       "mean       5159.420290\n",
       "std       21448.701657\n",
       "min           1.000000\n",
       "25%         750.000000\n",
       "50%        1512.000000\n",
       "75%        3680.000000\n",
       "max      179055.000000\n",
       "dtype: float64"
      ]
     },
     "execution_count": 15,
     "metadata": {},
     "output_type": "execute_result"
    }
   ],
   "source": [
    "df_Month.describe()"
   ]
  },
  {
   "cell_type": "code",
   "execution_count": 16,
   "metadata": {},
   "outputs": [
    {
     "name": "stdout",
     "output_type": "stream",
     "text": [
      "Mean created items per month =  5159.42028986\n"
     ]
    }
   ],
   "source": [
    "print('Mean created items per month = ',df_Month.mean())"
   ]
  },
  {
   "cell_type": "code",
   "execution_count": 17,
   "metadata": {},
   "outputs": [],
   "source": [
    "# For the second question, \n",
    "# you will also choose an appropriate method to visualize your findings."
   ]
  },
  {
   "cell_type": "code",
   "execution_count": 18,
   "metadata": {},
   "outputs": [
    {
     "data": {
      "image/png": "[encoded data removed]",
      "text/plain": [
       "<matplotlib.figure.Figure at 0x2262f253208>"
      ]
     },
     "metadata": {},
     "output_type": "display_data"
    }
   ],
   "source": [
    "#Graph over Time with log y-axis, bacause range is from 0 to high number\n",
    "font={'fontname':'Arial', 'size':'20'}\n",
    "plt.figure(figsize=(20,20))\n",
    "df_Month.plot(color='blue', lw=2)\n",
    "plt.yscale('log')\n",
    "plt.grid(True)\n",
    "plt.ylabel('Monthly Item Count', font)\n",
    "plt.xlabel(\"Time Range\", font)\n",
    "plt.xticks(fontsize = 20)\n",
    "plt.yticks(fontsize = 20)\n",
    "plt.show()"
   ]
  },
  {
   "cell_type": "code",
   "execution_count": 19,
   "metadata": {},
   "outputs": [],
   "source": [
    "# -> More items are in younger time"
   ]
  }
 ],
 "metadata": {
  "kernelspec": {
   "display_name": "Python 3",
   "language": "python",
   "name": "python3"
  },
  "language_info": {
   "codemirror_mode": {
    "name": "ipython",
    "version": 3
   },
   "file_extension": ".py",
   "mimetype": "text/x-python",
   "name": "python",
   "nbconvert_exporter": "python",
   "pygments_lexer": "ipython3",
   "version": "3.6.2"
  }
 },
 "nbformat": 4,
 "nbformat_minor": 2
}
