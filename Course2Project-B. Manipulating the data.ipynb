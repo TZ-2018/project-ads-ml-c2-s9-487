{
 "cells": [
  {
   "cell_type": "code",
   "execution_count": 1,
   "metadata": {},
   "outputs": [],
   "source": [
    "import numpy as np\n",
    "import pandas as pd\n",
    "import scipy.stats as stats\n",
    "from matplotlib import pyplot as plt\n",
    "%matplotlib inline"
   ]
  },
  {
   "cell_type": "code",
   "execution_count": 2,
   "metadata": {},
   "outputs": [],
   "source": [
    "#Import Data\n",
    "#The full dataset has 356027 entries -> using subset 100'000\n",
    "df = pd.read_csv('en.openfoodfacts.org.products.tsv',nrows=100000,low_memory=False,sep='\\t')"
   ]
  },
  {
   "cell_type": "code",
   "execution_count": 3,
   "metadata": {},
   "outputs": [],
   "source": [
    "# Data Cleaning\n",
    "# -> many columns are empty, therefore not used anymore -> delete\n",
    "#Thresold min 100\n",
    "df.dropna(thresh=100, axis=1,inplace=True)\n",
    "dfNum=df.select_dtypes(include=['number'])\n",
    "dd=dfNum.loc[:,['carbohydrates_100g','salt_100g', 'zinc_100g','fat_100g','taurine_100g', 'magnesium_100g' ,'phosphorus_100g','calcium_100g','potassium_100g','folates_100g' ]]\n",
    "filter0 = dd > 100\n",
    "filter_any=filter0.any(axis=1)\n",
    "outliers = df.loc[filter_any, :]\n",
    "df = df.drop(outliers.index, axis=0)"
   ]
  },
  {
   "cell_type": "markdown",
   "metadata": {},
   "source": [
    "B. Manipulating the data\n",
    "\n",
    "You will work with the data to investigate some properties of your choice. Your goal is to\n",
    "choose 3 interesting questions to answer about the data and perform the necessary\n",
    "steps for the analysis.\n",
    "The questions that you choose must be complex enough to allow for some substantial\n",
    "data manipulation. As a guideline here is a sample topic of analysis\n",
    "\n",
    "Topic: Investigate the macronutrient breakdown across various foods (this is the\n",
    "percentage of calories that come from the 3 macronutrient groups: carbohydrates,\n",
    "protein and fats). \n"
   ]
  },
  {
   "cell_type": "markdown",
   "metadata": {},
   "source": [
    "What are the foods that have the highest ratios of each macronutrient? "
   ]
  },
  {
   "cell_type": "code",
   "execution_count": 4,
   "metadata": {},
   "outputs": [
    {
     "data": {
      "text/html": [
       "<div>\n",
       "<style>\n",
       "    .dataframe thead tr:only-child th {\n",
       "        text-align: right;\n",
       "    }\n",
       "\n",
       "    .dataframe thead th {\n",
       "        text-align: left;\n",
       "    }\n",
       "\n",
       "    .dataframe tbody tr th {\n",
       "        vertical-align: top;\n",
       "    }\n",
       "</style>\n",
       "<table border=\"1\" class=\"dataframe\">\n",
       "  <thead>\n",
       "    <tr style=\"text-align: right;\">\n",
       "      <th></th>\n",
       "      <th>product_name</th>\n",
       "      <th>carbohydrates_100g</th>\n",
       "    </tr>\n",
       "  </thead>\n",
       "  <tbody>\n",
       "    <tr>\n",
       "      <th>57772</th>\n",
       "      <td>Zero Calorie Sweetener</td>\n",
       "      <td>100.0</td>\n",
       "    </tr>\n",
       "    <tr>\n",
       "      <th>38055</th>\n",
       "      <td>Shoppers Value, Non-Dairy Creamer</td>\n",
       "      <td>100.0</td>\n",
       "    </tr>\n",
       "    <tr>\n",
       "      <th>68919</th>\n",
       "      <td>Demerara Cane Sugar</td>\n",
       "      <td>100.0</td>\n",
       "    </tr>\n",
       "    <tr>\n",
       "      <th>44396</th>\n",
       "      <td>Butterscotch Discs Candy</td>\n",
       "      <td>100.0</td>\n",
       "    </tr>\n",
       "    <tr>\n",
       "      <th>37590</th>\n",
       "      <td>Sugar Sweetened Iced Tea Mix, Raspberry Flavor...</td>\n",
       "      <td>100.0</td>\n",
       "    </tr>\n",
       "  </tbody>\n",
       "</table>\n",
       "</div>"
      ],
      "text/plain": [
       "                                            product_name  carbohydrates_100g\n",
       "57772                             Zero Calorie Sweetener               100.0\n",
       "38055                  Shoppers Value, Non-Dairy Creamer               100.0\n",
       "68919                                Demerara Cane Sugar               100.0\n",
       "44396                           Butterscotch Discs Candy               100.0\n",
       "37590  Sugar Sweetened Iced Tea Mix, Raspberry Flavor...               100.0"
      ]
     },
     "execution_count": 4,
     "metadata": {},
     "output_type": "execute_result"
    }
   ],
   "source": [
    "# Colum: highest 'carbohydrates_100g' , \n",
    "dd=df.sort_values(by=['carbohydrates_100g'], ascending=False, kind=\"quicksort\")\n",
    "dd.loc[:,['product_name','carbohydrates_100g']].head(5)"
   ]
  },
  {
   "cell_type": "code",
   "execution_count": 5,
   "metadata": {},
   "outputs": [
    {
     "data": {
      "text/html": [
       "<div>\n",
       "<style>\n",
       "    .dataframe thead tr:only-child th {\n",
       "        text-align: right;\n",
       "    }\n",
       "\n",
       "    .dataframe thead th {\n",
       "        text-align: left;\n",
       "    }\n",
       "\n",
       "    .dataframe tbody tr th {\n",
       "        vertical-align: top;\n",
       "    }\n",
       "</style>\n",
       "<table border=\"1\" class=\"dataframe\">\n",
       "  <thead>\n",
       "    <tr style=\"text-align: right;\">\n",
       "      <th></th>\n",
       "      <th>product_name</th>\n",
       "      <th>proteins_100g</th>\n",
       "    </tr>\n",
       "  </thead>\n",
       "  <tbody>\n",
       "    <tr>\n",
       "      <th>41366</th>\n",
       "      <td>Gelatin</td>\n",
       "      <td>100.0</td>\n",
       "    </tr>\n",
       "    <tr>\n",
       "      <th>41365</th>\n",
       "      <td>Unflavored Gelatin</td>\n",
       "      <td>100.0</td>\n",
       "    </tr>\n",
       "    <tr>\n",
       "      <th>71739</th>\n",
       "      <td>Unflavored Gelatin</td>\n",
       "      <td>100.0</td>\n",
       "    </tr>\n",
       "    <tr>\n",
       "      <th>90840</th>\n",
       "      <td>Garlic Powder</td>\n",
       "      <td>100.0</td>\n",
       "    </tr>\n",
       "    <tr>\n",
       "      <th>2919</th>\n",
       "      <td>Unflavored Gelatin</td>\n",
       "      <td>100.0</td>\n",
       "    </tr>\n",
       "  </tbody>\n",
       "</table>\n",
       "</div>"
      ],
      "text/plain": [
       "             product_name  proteins_100g\n",
       "41366             Gelatin          100.0\n",
       "41365  Unflavored Gelatin          100.0\n",
       "71739  Unflavored Gelatin          100.0\n",
       "90840       Garlic Powder          100.0\n",
       "2919   Unflavored Gelatin          100.0"
      ]
     },
     "execution_count": 5,
     "metadata": {},
     "output_type": "execute_result"
    }
   ],
   "source": [
    "# Colum: highest 'proteins_100g' , \n",
    "dd=df.sort_values(by=['proteins_100g'], ascending=False, kind=\"quicksort\")\n",
    "dd.loc[:,['product_name','proteins_100g']].head(5)"
   ]
  },
  {
   "cell_type": "code",
   "execution_count": 6,
   "metadata": {},
   "outputs": [
    {
     "data": {
      "text/html": [
       "<div>\n",
       "<style>\n",
       "    .dataframe thead tr:only-child th {\n",
       "        text-align: right;\n",
       "    }\n",
       "\n",
       "    .dataframe thead th {\n",
       "        text-align: left;\n",
       "    }\n",
       "\n",
       "    .dataframe tbody tr th {\n",
       "        vertical-align: top;\n",
       "    }\n",
       "</style>\n",
       "<table border=\"1\" class=\"dataframe\">\n",
       "  <thead>\n",
       "    <tr style=\"text-align: right;\">\n",
       "      <th></th>\n",
       "      <th>product_name</th>\n",
       "      <th>fat_100g</th>\n",
       "    </tr>\n",
       "  </thead>\n",
       "  <tbody>\n",
       "    <tr>\n",
       "      <th>5918</th>\n",
       "      <td>Canola Oil</td>\n",
       "      <td>100.0</td>\n",
       "    </tr>\n",
       "    <tr>\n",
       "      <th>19782</th>\n",
       "      <td>Organic Peanut Oil</td>\n",
       "      <td>100.0</td>\n",
       "    </tr>\n",
       "    <tr>\n",
       "      <th>37382</th>\n",
       "      <td>Lard</td>\n",
       "      <td>100.0</td>\n",
       "    </tr>\n",
       "    <tr>\n",
       "      <th>19777</th>\n",
       "      <td>Canola &amp; Coconut Oil Blend</td>\n",
       "      <td>100.0</td>\n",
       "    </tr>\n",
       "    <tr>\n",
       "      <th>89567</th>\n",
       "      <td>All Purpose Vegetable Shortening</td>\n",
       "      <td>100.0</td>\n",
       "    </tr>\n",
       "  </tbody>\n",
       "</table>\n",
       "</div>"
      ],
      "text/plain": [
       "                           product_name  fat_100g\n",
       "5918                         Canola Oil     100.0\n",
       "19782                Organic Peanut Oil     100.0\n",
       "37382                              Lard     100.0\n",
       "19777        Canola & Coconut Oil Blend     100.0\n",
       "89567  All Purpose Vegetable Shortening     100.0"
      ]
     },
     "execution_count": 6,
     "metadata": {},
     "output_type": "execute_result"
    }
   ],
   "source": [
    "# Colum: highest 'fat_100g' , \n",
    "dd=df.sort_values(by=['fat_100g'], ascending=False, kind=\"quicksort\")\n",
    "dd.loc[:,['product_name','fat_100g']].head(5)"
   ]
  },
  {
   "cell_type": "markdown",
   "metadata": {},
   "source": [
    "What are the foods that are most balanced? "
   ]
  },
  {
   "cell_type": "code",
   "execution_count": 7,
   "metadata": {},
   "outputs": [
    {
     "data": {
      "text/html": [
       "<div>\n",
       "<style>\n",
       "    .dataframe thead tr:only-child th {\n",
       "        text-align: right;\n",
       "    }\n",
       "\n",
       "    .dataframe thead th {\n",
       "        text-align: left;\n",
       "    }\n",
       "\n",
       "    .dataframe tbody tr th {\n",
       "        vertical-align: top;\n",
       "    }\n",
       "</style>\n",
       "<table border=\"1\" class=\"dataframe\">\n",
       "  <thead>\n",
       "    <tr style=\"text-align: right;\">\n",
       "      <th></th>\n",
       "      <th>product_name</th>\n",
       "      <th>carbohydrates_100g</th>\n",
       "      <th>proteins_100g</th>\n",
       "      <th>fat_100g</th>\n",
       "    </tr>\n",
       "  </thead>\n",
       "  <tbody>\n",
       "    <tr>\n",
       "      <th>12</th>\n",
       "      <td>Zen Party Mix</td>\n",
       "      <td>36.67</td>\n",
       "      <td>16.67</td>\n",
       "      <td>36.67</td>\n",
       "    </tr>\n",
       "    <tr>\n",
       "      <th>13</th>\n",
       "      <td>Organic Golden Flax Seeds</td>\n",
       "      <td>38.10</td>\n",
       "      <td>19.05</td>\n",
       "      <td>42.86</td>\n",
       "    </tr>\n",
       "    <tr>\n",
       "      <th>20</th>\n",
       "      <td>Energy Power Mix</td>\n",
       "      <td>42.50</td>\n",
       "      <td>7.50</td>\n",
       "      <td>17.50</td>\n",
       "    </tr>\n",
       "  </tbody>\n",
       "</table>\n",
       "</div>"
      ],
      "text/plain": [
       "                 product_name  carbohydrates_100g  proteins_100g  fat_100g\n",
       "12              Zen Party Mix               36.67          16.67     36.67\n",
       "13  Organic Golden Flax Seeds               38.10          19.05     42.86\n",
       "20           Energy Power Mix               42.50           7.50     17.50"
      ]
     },
     "execution_count": 7,
     "metadata": {},
     "output_type": "execute_result"
    }
   ],
   "source": [
    "#What are the foods that are most balanced? \n",
    "#Filter 'carbohydrates_100g' 30-50\n",
    "d1=df[(df['carbohydrates_100g']>30) & (df['carbohydrates_100g']<50)]\n",
    "d1.loc[:,['product_name','carbohydrates_100g','proteins_100g','fat_100g']].head(3)"
   ]
  },
  {
   "cell_type": "code",
   "execution_count": 8,
   "metadata": {},
   "outputs": [
    {
     "data": {
      "text/html": [
       "<div>\n",
       "<style>\n",
       "    .dataframe thead tr:only-child th {\n",
       "        text-align: right;\n",
       "    }\n",
       "\n",
       "    .dataframe thead th {\n",
       "        text-align: left;\n",
       "    }\n",
       "\n",
       "    .dataframe tbody tr th {\n",
       "        vertical-align: top;\n",
       "    }\n",
       "</style>\n",
       "<table border=\"1\" class=\"dataframe\">\n",
       "  <thead>\n",
       "    <tr style=\"text-align: right;\">\n",
       "      <th></th>\n",
       "      <th>product_name</th>\n",
       "      <th>carbohydrates_100g</th>\n",
       "      <th>proteins_100g</th>\n",
       "      <th>fat_100g</th>\n",
       "    </tr>\n",
       "  </thead>\n",
       "  <tbody>\n",
       "    <tr>\n",
       "      <th>14</th>\n",
       "      <td>Organic Spicy Punks</td>\n",
       "      <td>15.15</td>\n",
       "      <td>30.3</td>\n",
       "      <td>48.48</td>\n",
       "    </tr>\n",
       "    <tr>\n",
       "      <th>188</th>\n",
       "      <td>Pâté au poulet</td>\n",
       "      <td>16.60</td>\n",
       "      <td>33.9</td>\n",
       "      <td>10.20</td>\n",
       "    </tr>\n",
       "    <tr>\n",
       "      <th>248</th>\n",
       "      <td>Marmite Original Pate A Tartiner 125G</td>\n",
       "      <td>24.00</td>\n",
       "      <td>39.0</td>\n",
       "      <td>1.00</td>\n",
       "    </tr>\n",
       "  </tbody>\n",
       "</table>\n",
       "</div>"
      ],
      "text/plain": [
       "                              product_name  carbohydrates_100g  proteins_100g  \\\n",
       "14                     Organic Spicy Punks               15.15           30.3   \n",
       "188                         Pâté au poulet               16.60           33.9   \n",
       "248  Marmite Original Pate A Tartiner 125G               24.00           39.0   \n",
       "\n",
       "     fat_100g  \n",
       "14      48.48  \n",
       "188     10.20  \n",
       "248      1.00  "
      ]
     },
     "execution_count": 8,
     "metadata": {},
     "output_type": "execute_result"
    }
   ],
   "source": [
    "#Filter 'proteins_100g' 30-50\n",
    "d1=df[(df['proteins_100g']>30) & (df['proteins_100g']<50)]\n",
    "d1.loc[:,['product_name','carbohydrates_100g','proteins_100g','fat_100g']].head(3)"
   ]
  },
  {
   "cell_type": "code",
   "execution_count": 9,
   "metadata": {},
   "outputs": [
    {
     "data": {
      "text/html": [
       "<div>\n",
       "<style>\n",
       "    .dataframe thead tr:only-child th {\n",
       "        text-align: right;\n",
       "    }\n",
       "\n",
       "    .dataframe thead th {\n",
       "        text-align: left;\n",
       "    }\n",
       "\n",
       "    .dataframe tbody tr th {\n",
       "        vertical-align: top;\n",
       "    }\n",
       "</style>\n",
       "<table border=\"1\" class=\"dataframe\">\n",
       "  <thead>\n",
       "    <tr style=\"text-align: right;\">\n",
       "      <th></th>\n",
       "      <th>product_name</th>\n",
       "      <th>carbohydrates_100g</th>\n",
       "      <th>proteins_100g</th>\n",
       "      <th>fat_100g</th>\n",
       "    </tr>\n",
       "  </thead>\n",
       "  <tbody>\n",
       "    <tr>\n",
       "      <th>8</th>\n",
       "      <td>Organic Dark Chocolate Minis</td>\n",
       "      <td>55.00</td>\n",
       "      <td>5.00</td>\n",
       "      <td>37.50</td>\n",
       "    </tr>\n",
       "    <tr>\n",
       "      <th>12</th>\n",
       "      <td>Zen Party Mix</td>\n",
       "      <td>36.67</td>\n",
       "      <td>16.67</td>\n",
       "      <td>36.67</td>\n",
       "    </tr>\n",
       "    <tr>\n",
       "      <th>13</th>\n",
       "      <td>Organic Golden Flax Seeds</td>\n",
       "      <td>38.10</td>\n",
       "      <td>19.05</td>\n",
       "      <td>42.86</td>\n",
       "    </tr>\n",
       "  </tbody>\n",
       "</table>\n",
       "</div>"
      ],
      "text/plain": [
       "                    product_name  carbohydrates_100g  proteins_100g  fat_100g\n",
       "8   Organic Dark Chocolate Minis               55.00           5.00     37.50\n",
       "12                 Zen Party Mix               36.67          16.67     36.67\n",
       "13     Organic Golden Flax Seeds               38.10          19.05     42.86"
      ]
     },
     "execution_count": 9,
     "metadata": {},
     "output_type": "execute_result"
    }
   ],
   "source": [
    "#Filter 'fat_100g' 30-50\n",
    "d1=df[(df['fat_100g']>30) & (df['fat_100g']<50)]\n",
    "d1.loc[:,['product_name','carbohydrates_100g','proteins_100g','fat_100g']].head(3)"
   ]
  },
  {
   "cell_type": "code",
   "execution_count": 10,
   "metadata": {},
   "outputs": [],
   "source": [
    "# ->  foods that are most balanced: \n",
    "#Zen Party Mix, Organic Golden Flax Seeds"
   ]
  },
  {
   "cell_type": "markdown",
   "metadata": {},
   "source": [
    "What is the macronutrient breakdown across different countries? \n",
    "Can you notice some trends or insights about the data?\n",
    "\n",
    "Choose appropriate visual methods to communicate your\n",
    "fndings."
   ]
  },
  {
   "cell_type": "code",
   "execution_count": 11,
   "metadata": {},
   "outputs": [],
   "source": [
    "group=df.groupby('countries_en')\n",
    "#list(group)\n",
    "#print(group.describe())\n",
    "#print(group.mean())\n",
    "#print(group.size())"
   ]
  },
  {
   "cell_type": "code",
   "execution_count": 12,
   "metadata": {},
   "outputs": [
    {
     "data": {
      "text/plain": [
       "countries_en\n",
       "United States            96471\n",
       "France                    1350\n",
       "Canada                     665\n",
       "United Kingdom             479\n",
       "France,United Kingdom      219\n",
       "France,United States       115\n",
       "Switzerland                 89\n",
       "Australia                   50\n",
       "Germany                     44\n",
       "Canada,United States        24\n",
       "Spain                       23\n",
       "Canada,France               22\n",
       "Taiwan                      16\n",
       "Mexico                      15\n",
       "Belgium                     13\n",
       "dtype: int64"
      ]
     },
     "execution_count": 12,
     "metadata": {},
     "output_type": "execute_result"
    }
   ],
   "source": [
    "# Examine amount of Products per country\n",
    "s=group.size()\n",
    "s2 = s.sort_values(ascending=False,kind=\"quicksort\")\n",
    "s2.head(15)"
   ]
  },
  {
   "cell_type": "code",
   "execution_count": 13,
   "metadata": {},
   "outputs": [],
   "source": [
    "# -> Using top3 for further analysis"
   ]
  },
  {
   "cell_type": "code",
   "execution_count": 14,
   "metadata": {},
   "outputs": [
    {
     "data": {
      "text/html": [
       "<div>\n",
       "<style>\n",
       "    .dataframe thead tr:only-child th {\n",
       "        text-align: right;\n",
       "    }\n",
       "\n",
       "    .dataframe thead th {\n",
       "        text-align: left;\n",
       "    }\n",
       "\n",
       "    .dataframe tbody tr th {\n",
       "        vertical-align: top;\n",
       "    }\n",
       "</style>\n",
       "<table border=\"1\" class=\"dataframe\">\n",
       "  <thead>\n",
       "    <tr style=\"text-align: right;\">\n",
       "      <th></th>\n",
       "      <th>carbohydrates_100g</th>\n",
       "      <th>proteins_100g</th>\n",
       "      <th>fat_100g</th>\n",
       "      <th>countries_en</th>\n",
       "    </tr>\n",
       "  </thead>\n",
       "  <tbody>\n",
       "    <tr>\n",
       "      <th>1</th>\n",
       "      <td>64.29</td>\n",
       "      <td>3.57</td>\n",
       "      <td>28.57</td>\n",
       "      <td>United States</td>\n",
       "    </tr>\n",
       "    <tr>\n",
       "      <th>2</th>\n",
       "      <td>60.71</td>\n",
       "      <td>17.86</td>\n",
       "      <td>17.86</td>\n",
       "      <td>United States</td>\n",
       "    </tr>\n",
       "    <tr>\n",
       "      <th>3</th>\n",
       "      <td>17.86</td>\n",
       "      <td>17.86</td>\n",
       "      <td>57.14</td>\n",
       "      <td>United States</td>\n",
       "    </tr>\n",
       "  </tbody>\n",
       "</table>\n",
       "</div>"
      ],
      "text/plain": [
       "   carbohydrates_100g  proteins_100g  fat_100g   countries_en\n",
       "1               64.29           3.57     28.57  United States\n",
       "2               60.71          17.86     17.86  United States\n",
       "3               17.86          17.86     57.14  United States"
      ]
     },
     "execution_count": 14,
     "metadata": {},
     "output_type": "execute_result"
    }
   ],
   "source": [
    "# Data United States about macronutrient\n",
    "dataUS=group.get_group('United States')\n",
    "dataUS.loc[:,['carbohydrates_100g','proteins_100g','fat_100g','countries_en']].head(3)"
   ]
  },
  {
   "cell_type": "code",
   "execution_count": 15,
   "metadata": {},
   "outputs": [
    {
     "data": {
      "text/html": [
       "<div>\n",
       "<style>\n",
       "    .dataframe thead tr:only-child th {\n",
       "        text-align: right;\n",
       "    }\n",
       "\n",
       "    .dataframe thead th {\n",
       "        text-align: left;\n",
       "    }\n",
       "\n",
       "    .dataframe tbody tr th {\n",
       "        vertical-align: top;\n",
       "    }\n",
       "</style>\n",
       "<table border=\"1\" class=\"dataframe\">\n",
       "  <thead>\n",
       "    <tr style=\"text-align: right;\">\n",
       "      <th></th>\n",
       "      <th>carbohydrates_100g</th>\n",
       "      <th>proteins_100g</th>\n",
       "      <th>fat_100g</th>\n",
       "      <th>countries_en</th>\n",
       "    </tr>\n",
       "  </thead>\n",
       "  <tbody>\n",
       "    <tr>\n",
       "      <th>0</th>\n",
       "      <td>NaN</td>\n",
       "      <td>NaN</td>\n",
       "      <td>NaN</td>\n",
       "      <td>France</td>\n",
       "    </tr>\n",
       "    <tr>\n",
       "      <th>46</th>\n",
       "      <td>NaN</td>\n",
       "      <td>NaN</td>\n",
       "      <td>NaN</td>\n",
       "      <td>France</td>\n",
       "    </tr>\n",
       "    <tr>\n",
       "      <th>47</th>\n",
       "      <td>NaN</td>\n",
       "      <td>NaN</td>\n",
       "      <td>NaN</td>\n",
       "      <td>France</td>\n",
       "    </tr>\n",
       "  </tbody>\n",
       "</table>\n",
       "</div>"
      ],
      "text/plain": [
       "    carbohydrates_100g  proteins_100g  fat_100g countries_en\n",
       "0                  NaN            NaN       NaN       France\n",
       "46                 NaN            NaN       NaN       France\n",
       "47                 NaN            NaN       NaN       France"
      ]
     },
     "execution_count": 15,
     "metadata": {},
     "output_type": "execute_result"
    }
   ],
   "source": [
    "# Data France about macronutrient\n",
    "dataFrance=group.get_group('France')\n",
    "dataFrance.loc[:,['carbohydrates_100g','proteins_100g','fat_100g','countries_en']].head(3)"
   ]
  },
  {
   "cell_type": "code",
   "execution_count": 16,
   "metadata": {},
   "outputs": [
    {
     "data": {
      "text/html": [
       "<div>\n",
       "<style>\n",
       "    .dataframe thead tr:only-child th {\n",
       "        text-align: right;\n",
       "    }\n",
       "\n",
       "    .dataframe thead th {\n",
       "        text-align: left;\n",
       "    }\n",
       "\n",
       "    .dataframe tbody tr th {\n",
       "        vertical-align: top;\n",
       "    }\n",
       "</style>\n",
       "<table border=\"1\" class=\"dataframe\">\n",
       "  <thead>\n",
       "    <tr style=\"text-align: right;\">\n",
       "      <th></th>\n",
       "      <th>carbohydrates_100g</th>\n",
       "      <th>proteins_100g</th>\n",
       "      <th>fat_100g</th>\n",
       "      <th>countries_en</th>\n",
       "    </tr>\n",
       "  </thead>\n",
       "  <tbody>\n",
       "    <tr>\n",
       "      <th>48</th>\n",
       "      <td>NaN</td>\n",
       "      <td>NaN</td>\n",
       "      <td>NaN</td>\n",
       "      <td>United Kingdom</td>\n",
       "    </tr>\n",
       "    <tr>\n",
       "      <th>155</th>\n",
       "      <td>NaN</td>\n",
       "      <td>NaN</td>\n",
       "      <td>NaN</td>\n",
       "      <td>United Kingdom</td>\n",
       "    </tr>\n",
       "    <tr>\n",
       "      <th>156</th>\n",
       "      <td>NaN</td>\n",
       "      <td>NaN</td>\n",
       "      <td>NaN</td>\n",
       "      <td>United Kingdom</td>\n",
       "    </tr>\n",
       "  </tbody>\n",
       "</table>\n",
       "</div>"
      ],
      "text/plain": [
       "     carbohydrates_100g  proteins_100g  fat_100g    countries_en\n",
       "48                  NaN            NaN       NaN  United Kingdom\n",
       "155                 NaN            NaN       NaN  United Kingdom\n",
       "156                 NaN            NaN       NaN  United Kingdom"
      ]
     },
     "execution_count": 16,
     "metadata": {},
     "output_type": "execute_result"
    }
   ],
   "source": [
    "# Data United Kingdom about macronutrient\n",
    "dataUK=group.get_group('United Kingdom')\n",
    "dataUK.loc[:,['carbohydrates_100g','proteins_100g','fat_100g','countries_en']].head(3)"
   ]
  },
  {
   "cell_type": "code",
   "execution_count": 17,
   "metadata": {},
   "outputs": [
    {
     "data": {
      "text/plain": [
       "<matplotlib.figure.Figure at 0x1de1e9bf6d8>"
      ]
     },
     "metadata": {},
     "output_type": "display_data"
    },
    {
     "data": {
      "image/png": "[encoded data removed]",
      "text/plain": [
       "<matplotlib.figure.Figure at 0x1de1e9bf6a0>"
      ]
     },
     "metadata": {},
     "output_type": "display_data"
    }
   ],
   "source": [
    "#Scatter Plot \n",
    "plt.figure(1)\n",
    "plt.figure(figsize=(17,10))\n",
    "#Data United States\n",
    "plt.subplot(3,3,1)\n",
    "plt.scatter(x=dataUS['carbohydrates_100g'], y=dataUS['proteins_100g'],color='blue', linewidths=0.01)\n",
    "plt.title('United States')\n",
    "plt.xlabel('carbohydrates_100g')\n",
    "plt.ylabel('proteins_100g')\n",
    "plt.subplot(3,3,2)\n",
    "plt.scatter(x=dataUS['carbohydrates_100g'], y=dataUS['fat_100g'],color='blue', linewidths=0.01)\n",
    "plt.xlabel('carbohydrates_100g')\n",
    "plt.ylabel('fat_100g')\n",
    "plt.subplot(3,3,3)\n",
    "plt.scatter(x=dataUS['proteins_100g'], y=dataUS['fat_100g'],color='blue', linewidths=0.01)\n",
    "plt.xlabel('proteins_100g')\n",
    "plt.ylabel('fat_100g')\n",
    "plt.subplots_adjust(hspace=0.5)\n",
    "#Data France\n",
    "plt.subplot(3,3,4)\n",
    "plt.title('France')\n",
    "plt.scatter(x=dataFrance['carbohydrates_100g'], y=dataFrance['proteins_100g'],color='blue', linewidths=0.01)\n",
    "plt.xlabel('carbohydrates_100g')\n",
    "plt.ylabel('proteins_100g')\n",
    "plt.subplot(3,3,5)\n",
    "plt.scatter(x=dataFrance['carbohydrates_100g'], y=dataFrance['fat_100g'],color='blue', linewidths=0.01)\n",
    "plt.xlabel('carbohydrates_100g')\n",
    "plt.ylabel('fat_100g')\n",
    "plt.subplot(3,3,6)\n",
    "plt.scatter(x=dataFrance['proteins_100g'], y=dataFrance['fat_100g'],color='blue', linewidths=0.01)\n",
    "plt.xlabel('proteins_100g')\n",
    "plt.ylabel('fat_100g')\n",
    "plt.subplots_adjust(hspace=0.5)\n",
    "#Data UK\n",
    "plt.subplot(3,3,7)\n",
    "plt.title('UK')\n",
    "plt.scatter(x=dataUK['carbohydrates_100g'], y=dataUK['proteins_100g'],color='blue', linewidths=0.01)\n",
    "plt.xlabel('carbohydrates_100g')\n",
    "plt.ylabel('proteins_100g')\n",
    "plt.subplot(3,3,8)\n",
    "plt.scatter(x=dataUK['carbohydrates_100g'], y=dataUK['fat_100g'],color='blue', linewidths=0.01)\n",
    "plt.xlabel('carbohydrates_100g')\n",
    "plt.ylabel('fat_100g')\n",
    "plt.subplot(3,3,9)\n",
    "plt.scatter(x=dataUK['proteins_100g'], y=dataUK['fat_100g'],color='blue', linewidths=0.01)\n",
    "plt.xlabel('proteins_100g')\n",
    "plt.ylabel('fat_100g')\n",
    "\n",
    "plt.suptitle('Scatter Plot over 3 countries', fontsize=16)\n",
    "plt.show()"
   ]
  },
  {
   "cell_type": "code",
   "execution_count": 18,
   "metadata": {},
   "outputs": [],
   "source": [
    "# ->  trends or insights: US has many more macronutrient data as UK"
   ]
  },
  {
   "cell_type": "markdown",
   "metadata": {},
   "source": [
    "2)Interesting question:\n",
    "Which country has the highest macronurtient in average?\n"
   ]
  },
  {
   "cell_type": "code",
   "execution_count": 19,
   "metadata": {
    "scrolled": true
   },
   "outputs": [
    {
     "data": {
      "text/html": [
       "<div>\n",
       "<style>\n",
       "    .dataframe thead tr:only-child th {\n",
       "        text-align: right;\n",
       "    }\n",
       "\n",
       "    .dataframe thead th {\n",
       "        text-align: left;\n",
       "    }\n",
       "\n",
       "    .dataframe tbody tr th {\n",
       "        vertical-align: top;\n",
       "    }\n",
       "</style>\n",
       "<table border=\"1\" class=\"dataframe\">\n",
       "  <thead>\n",
       "    <tr>\n",
       "      <th></th>\n",
       "      <th colspan=\"3\" halign=\"left\">mean</th>\n",
       "    </tr>\n",
       "    <tr>\n",
       "      <th></th>\n",
       "      <th>carbohydrates_100g</th>\n",
       "      <th>fat_100g</th>\n",
       "      <th>proteins_100g</th>\n",
       "    </tr>\n",
       "    <tr>\n",
       "      <th>countries_en</th>\n",
       "      <th></th>\n",
       "      <th></th>\n",
       "      <th></th>\n",
       "    </tr>\n",
       "  </thead>\n",
       "  <tbody>\n",
       "    <tr>\n",
       "      <th>Algeria</th>\n",
       "      <td>NaN</td>\n",
       "      <td>NaN</td>\n",
       "      <td>NaN</td>\n",
       "    </tr>\n",
       "    <tr>\n",
       "      <th>Armenia</th>\n",
       "      <td>NaN</td>\n",
       "      <td>NaN</td>\n",
       "      <td>NaN</td>\n",
       "    </tr>\n",
       "    <tr>\n",
       "      <th>Aruba</th>\n",
       "      <td>NaN</td>\n",
       "      <td>NaN</td>\n",
       "      <td>NaN</td>\n",
       "    </tr>\n",
       "    <tr>\n",
       "      <th>Australia</th>\n",
       "      <td>36.3125</td>\n",
       "      <td>13.975</td>\n",
       "      <td>5.2625</td>\n",
       "    </tr>\n",
       "    <tr>\n",
       "      <th>Australia,Belgium,Switzerland</th>\n",
       "      <td>22.6000</td>\n",
       "      <td>0.400</td>\n",
       "      <td>1.5000</td>\n",
       "    </tr>\n",
       "  </tbody>\n",
       "</table>\n",
       "</div>"
      ],
      "text/plain": [
       "                                            mean                       \n",
       "                              carbohydrates_100g fat_100g proteins_100g\n",
       "countries_en                                                           \n",
       "Algeria                                      NaN      NaN           NaN\n",
       "Armenia                                      NaN      NaN           NaN\n",
       "Aruba                                        NaN      NaN           NaN\n",
       "Australia                                36.3125   13.975        5.2625\n",
       "Australia,Belgium,Switzerland            22.6000    0.400        1.5000"
      ]
     },
     "execution_count": 19,
     "metadata": {},
     "output_type": "execute_result"
    }
   ],
   "source": [
    "# Averages over macronutrients\n",
    "MeanRegion=pd.pivot_table(df, index = 'countries_en', values=['carbohydrates_100g','proteins_100g','fat_100g'], \n",
    "                                        aggfunc= [np.mean] )\n",
    "MeanRegion.head(5)"
   ]
  },
  {
   "cell_type": "code",
   "execution_count": 20,
   "metadata": {},
   "outputs": [
    {
     "name": "stdout",
     "output_type": "stream",
     "text": [
      "# NaN =  180\n",
      "(140, 3)\n",
      "\n",
      "(80, 3)\n",
      "                                                                 mean  \\\n",
      "                                                   carbohydrates_100g   \n",
      "countries_en                                                            \n",
      "Australia                                                    36.31250   \n",
      "Australia,Belgium,Switzerland                                22.60000   \n",
      "Australia,France                                             58.40000   \n",
      "Australia,New Zealand,Singapore,Thailand,United...            6.30000   \n",
      "Australia,United States                                      24.89125   \n",
      "\n",
      "                                                                           \n",
      "                                                   fat_100g proteins_100g  \n",
      "countries_en                                                               \n",
      "Australia                                           13.9750      5.262500  \n",
      "Australia,Belgium,Switzerland                        0.4000      1.500000  \n",
      "Australia,France                                    30.4000      6.300000  \n",
      "Australia,New Zealand,Singapore,Thailand,United...  15.9000      8.300000  \n",
      "Australia,United States                             21.0675      3.093375  \n",
      "\n",
      "# NaN =  0\n"
     ]
    }
   ],
   "source": [
    "# Drop NaN\n",
    "print('# NaN = ',MeanRegion.isnull().sum().sum())\n",
    "print(MeanRegion.shape)\n",
    "print()\n",
    "df2=MeanRegion.dropna(axis=0)\n",
    "print(df2.shape)\n",
    "print(df2.head(5))\n",
    "print()\n",
    "print('# NaN = ',df2.isnull().sum().sum())"
   ]
  },
  {
   "cell_type": "code",
   "execution_count": 21,
   "metadata": {
    "scrolled": true
   },
   "outputs": [
    {
     "data": {
      "text/plain": [
       "MultiIndex(levels=[['mean'], ['carbohydrates_100g', 'fat_100g', 'proteins_100g']],\n",
       "           labels=[[0, 0, 0], [0, 1, 2]])"
      ]
     },
     "execution_count": 21,
     "metadata": {},
     "output_type": "execute_result"
    }
   ],
   "source": [
    "#MultiIndex Structure\n",
    "df2.columns"
   ]
  },
  {
   "cell_type": "code",
   "execution_count": 22,
   "metadata": {},
   "outputs": [
    {
     "data": {
      "text/plain": [
       "countries_en\n",
       "Panama,United States             94.44\n",
       "Canada,France,Switzerland        89.30\n",
       "Canada,France,United States      79.30\n",
       "China,Switzerland                79.00\n",
       "Belgium,France,United Kingdom    75.20\n",
       "Name: carbohydrates_100g, dtype: float64"
      ]
     },
     "execution_count": 22,
     "metadata": {},
     "output_type": "execute_result"
    }
   ],
   "source": [
    "#Calculate the highest mean for carbohydrates_100g over countries\n",
    "df3=df2['mean']['carbohydrates_100g']\n",
    "df4=df3.sort_values(ascending=False, kind=\"quicksort\").head(5)\n",
    "df4.head()"
   ]
  },
  {
   "cell_type": "code",
   "execution_count": 23,
   "metadata": {},
   "outputs": [
    {
     "data": {
      "image/png": "[encoded data removed]",
      "text/plain": [
       "<matplotlib.figure.Figure at 0x1de1a2a2b70>"
      ]
     },
     "metadata": {},
     "output_type": "display_data"
    }
   ],
   "source": [
    "#Graph highest mean for carbohydrates_100g over countries\n",
    "font={'fontname':'Arial', 'size':'20'}\n",
    "x_cor = np.linspace(0,100,11)\n",
    "y_cor = np.linspace(5,0,len(df4))\n",
    "plt.figure(figsize=(15,10))\n",
    "plt.grid(True)\n",
    "plt.ylabel('countries', font)\n",
    "plt.xlabel(\"carbohydrates_100g\", font)\n",
    "plt.barh(y_cor,df4,color='blue',edgecolor='black')\n",
    "plt.yticks(y_cor,df4.index,fontsize = 20)\n",
    "plt.xticks(x_cor,fontsize = 20)\n",
    "plt.title(\"Graph highest mean for carbohydrates_100g over countries\")\n",
    "plt.show()"
   ]
  },
  {
   "cell_type": "code",
   "execution_count": 24,
   "metadata": {},
   "outputs": [
    {
     "data": {
      "text/plain": [
       "countries_en\n",
       "Serbia                                     100.0\n",
       "New Caledonia                               91.0\n",
       "Canada,Portugal                             53.3\n",
       "Cuba                                        33.0\n",
       "Canada,France,Switzerland,United States     32.4\n",
       "Name: fat_100g, dtype: float64"
      ]
     },
     "execution_count": 24,
     "metadata": {},
     "output_type": "execute_result"
    }
   ],
   "source": [
    "#Calculate the highest mean for fat_100g over countries\n",
    "df3=df2['mean']['fat_100g']\n",
    "df4=df3.sort_values(ascending=False, kind=\"quicksort\").head(5)\n",
    "df4.head()"
   ]
  },
  {
   "cell_type": "code",
   "execution_count": 25,
   "metadata": {},
   "outputs": [
    {
     "data": {
      "image/png": "[encoded data removed]",
      "text/plain": [
       "<matplotlib.figure.Figure at 0x1de19e50cc0>"
      ]
     },
     "metadata": {},
     "output_type": "display_data"
    }
   ],
   "source": [
    "#Graph highest mean for fat_100g over countries\n",
    "font={'fontname':'Arial', 'size':'20'}\n",
    "x_cor = np.linspace(0,100,11)\n",
    "y_cor = np.linspace(5,0,len(df4))\n",
    "plt.figure(figsize=(15,10))\n",
    "plt.grid(True)\n",
    "plt.ylabel('countries', font)\n",
    "plt.xlabel(\"fat_100g\", font)\n",
    "plt.barh(y_cor,df4,color='blue',edgecolor='black')\n",
    "plt.yticks(y_cor,df4.index,fontsize = 20)\n",
    "plt.xticks(x_cor,fontsize = 20)\n",
    "plt.title(\"Graph highest mean for fat_100g over countries\")\n",
    "plt.show()"
   ]
  },
  {
   "cell_type": "code",
   "execution_count": 26,
   "metadata": {},
   "outputs": [
    {
     "data": {
      "text/plain": [
       "countries_en\n",
       "French Polynesia               46.400000\n",
       "Germany                        45.797368\n",
       "Canada,Portugal                20.000000\n",
       "France,Spain,United Kingdom    16.100000\n",
       "Mexico,United States           14.290000\n",
       "Name: proteins_100g, dtype: float64"
      ]
     },
     "execution_count": 26,
     "metadata": {},
     "output_type": "execute_result"
    }
   ],
   "source": [
    "#Calculate the highest mean for proteins_100g over countries\n",
    "df3=df2['mean']['proteins_100g']\n",
    "df4=df3.sort_values(ascending=False, kind=\"quicksort\").head(5)\n",
    "df4.head()"
   ]
  },
  {
   "cell_type": "code",
   "execution_count": 27,
   "metadata": {},
   "outputs": [
    {
     "data": {
      "image/png": "[encoded data removed]",
      "text/plain": [
       "<matplotlib.figure.Figure at 0x1de1a25d400>"
      ]
     },
     "metadata": {},
     "output_type": "display_data"
    }
   ],
   "source": [
    "#Graph highest mean for proteins_100g over countries\n",
    "font={'fontname':'Arial', 'size':'20'}\n",
    "x_cor = np.linspace(0,100,11)\n",
    "y_cor = np.linspace(5,0,len(df4))\n",
    "plt.figure(figsize=(15,10))\n",
    "plt.grid(True)\n",
    "plt.ylabel('countries', font)\n",
    "plt.xlabel(\"proteins_100g\", font)\n",
    "plt.barh(y_cor,df4,color='blue',edgecolor='black')\n",
    "plt.yticks(y_cor,df4.index,fontsize = 20)\n",
    "plt.xticks(x_cor,fontsize = 20)\n",
    "plt.title(\"Graph highest mean for proteins_100g over countries\")\n",
    "plt.show()"
   ]
  },
  {
   "cell_type": "markdown",
   "metadata": {},
   "source": [
    "3)Interesting question:\n",
    "\n",
    "What ist distribution per macronutrients over all products?"
   ]
  },
  {
   "cell_type": "code",
   "execution_count": 28,
   "metadata": {},
   "outputs": [
    {
     "name": "stdout",
     "output_type": "stream",
     "text": [
      "# NaN =  2992\n",
      "(99924,)\n",
      "\n",
      "# NaN =  0\n"
     ]
    }
   ],
   "source": [
    "# Extract carbohydrates_100g\n",
    "s=df.loc[:,['carbohydrates_100g']].unstack()\n",
    "# Drop NaN\n",
    "print('# NaN = ',s.isnull().sum().sum())\n",
    "print(s.shape)\n",
    "#print()\n",
    "df2=s.dropna(axis=0)\n",
    "#print(df2.shape)\n",
    "#print(df2.head(5))\n",
    "print()\n",
    "print('# NaN = ',df2.isnull().sum().sum())"
   ]
  },
  {
   "cell_type": "code",
   "execution_count": 29,
   "metadata": {
    "scrolled": true
   },
   "outputs": [
    {
     "data": {
      "image/png": "[encoded data removed]",
      "text/plain": [
       "<matplotlib.figure.Figure at 0x1de1a66dc18>"
      ]
     },
     "metadata": {},
     "output_type": "display_data"
    }
   ],
   "source": [
    "#Histogram carbohydrates_100g\n",
    "plt.figure(figsize=(12,5))\n",
    "plt.yscale('log')\n",
    "plt.grid(True)\n",
    "x_cor = np.linspace(0,100,11)\n",
    "plt.hist(df2, 100, histtype='bar', facecolor='g', alpha=0.75,rwidth=0.9)\n",
    "plt.title('Histogram of carbohydrates_100g over all products')\n",
    "plt.xticks(x_cor,fontsize = 10)\n",
    "plt.ylabel(\"Count of products\")\n",
    "plt.xlabel(\"carbohydrates_100g\")\n",
    "plt.show()"
   ]
  },
  {
   "cell_type": "code",
   "execution_count": 30,
   "metadata": {},
   "outputs": [],
   "source": [
    "#carbohydrates_100g -> Many zero values, rest of distribution balanced"
   ]
  },
  {
   "cell_type": "code",
   "execution_count": 31,
   "metadata": {},
   "outputs": [
    {
     "name": "stdout",
     "output_type": "stream",
     "text": [
      "# NaN =  3031\n",
      "(99924,)\n",
      "\n",
      "# NaN =  0\n"
     ]
    }
   ],
   "source": [
    "# Extract fat_100g\n",
    "s=df.loc[:,['fat_100g']].unstack()\n",
    "# Drop NaN\n",
    "print('# NaN = ',s.isnull().sum().sum())\n",
    "print(s.shape)\n",
    "#print()\n",
    "df2=s.dropna(axis=0)\n",
    "#print(df2.shape)\n",
    "#print(df2.head(5))\n",
    "print()\n",
    "print('# NaN = ',df2.isnull().sum().sum())"
   ]
  },
  {
   "cell_type": "code",
   "execution_count": 32,
   "metadata": {
    "scrolled": true
   },
   "outputs": [
    {
     "data": {
      "image/png": "[encoded data removed]",
      "text/plain": [
       "<matplotlib.figure.Figure at 0x1de19dcd668>"
      ]
     },
     "metadata": {},
     "output_type": "display_data"
    }
   ],
   "source": [
    "#Histogram fat_100g\n",
    "plt.figure(figsize=(12,5))\n",
    "plt.yscale('log')\n",
    "plt.grid(True)\n",
    "x_cor = np.linspace(0,100,11)\n",
    "plt.hist(df2, 100, histtype='bar', facecolor='g', alpha=0.75,rwidth=0.9)\n",
    "plt.title('Histogram of fat_100g over all products')\n",
    "plt.xticks(x_cor,fontsize = 15)\n",
    "plt.ylabel(\"Count of products\")\n",
    "plt.xlabel(\"fat_100g\")\n",
    "plt.show()"
   ]
  },
  {
   "cell_type": "code",
   "execution_count": 33,
   "metadata": {},
   "outputs": [],
   "source": [
    "#fat_100g -> Many zero values, only small amount"
   ]
  },
  {
   "cell_type": "code",
   "execution_count": 34,
   "metadata": {},
   "outputs": [
    {
     "name": "stdout",
     "output_type": "stream",
     "text": [
      "# NaN =  2942\n",
      "(99924,)\n",
      "\n",
      "# NaN =  0\n"
     ]
    }
   ],
   "source": [
    "# Extract proteins_100g\n",
    "s=df.loc[:,['proteins_100g']].unstack()\n",
    "# Drop NaN\n",
    "print('# NaN = ',s.isnull().sum().sum())\n",
    "print(s.shape)\n",
    "#print()\n",
    "df2=s.dropna(axis=0)\n",
    "#print(df2.shape)\n",
    "#print(df2.head(5))\n",
    "print()\n",
    "print('# NaN = ',df2.isnull().sum().sum())"
   ]
  },
  {
   "cell_type": "code",
   "execution_count": 35,
   "metadata": {
    "scrolled": true
   },
   "outputs": [
    {
     "data": {
      "image/png": "[encoded data removed]",
      "text/plain": [
       "<matplotlib.figure.Figure at 0x1de19d77fd0>"
      ]
     },
     "metadata": {},
     "output_type": "display_data"
    }
   ],
   "source": [
    "#Histogram proteins_100g\n",
    "plt.figure(figsize=(12,5))\n",
    "plt.yscale('log')\n",
    "plt.grid(True)\n",
    "x_cor = np.linspace(0,100,11)\n",
    "plt.hist(df2, 100, histtype='bar', facecolor='g', alpha=0.75,rwidth=0.9)\n",
    "plt.title('Histogram of proteins_100g over all products')\n",
    "plt.xticks(x_cor,fontsize = 15)\n",
    "plt.ylabel(\"Count of products\")\n",
    "plt.xlabel(\"proteins_100g\")\n",
    "plt.show()"
   ]
  },
  {
   "cell_type": "code",
   "execution_count": 36,
   "metadata": {},
   "outputs": [],
   "source": [
    "#proteins_100g -> Many zero values, , only small amount"
   ]
  }
 ],
 "metadata": {
  "kernelspec": {
   "display_name": "Python 3",
   "language": "python",
   "name": "python3"
  },
  "language_info": {
   "codemirror_mode": {
    "name": "ipython",
    "version": 3
   },
   "file_extension": ".py",
   "mimetype": "text/x-python",
   "name": "python",
   "nbconvert_exporter": "python",
   "pygments_lexer": "ipython3",
   "version": "3.6.2"
  }
 },
 "nbformat": 4,
 "nbformat_minor": 2
}
